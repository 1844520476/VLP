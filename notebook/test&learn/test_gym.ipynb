{
 "cells": [
  {
   "cell_type": "code",
   "execution_count": null,
   "metadata": {
    "collapsed": true,
    "pycharm": {
     "name": "#%%\n"
    }
   },
   "outputs": [],
   "source": [
    "import IPython\n",
    "from matplotlib import pyplot as plt\n",
    "import gym\n",
    "\n",
    "env = gym.make('CartPole-v1')  # 初始化场景\n",
    "env.reset()  # 初始状态\n",
    "env.render(mode='rgb_array')\n",
    "t = 0\n",
    "# 随便动一步(初始状态)\n",
    "action = env.action_space.sample()\n",
    "state, _, done, _ = env.step(action)\n",
    "env.render(mode='rgb_array')\n",
    "# 绘图\n",
    "plt.figure()\n",
    "plt.clf()\n",
    "plt.title('Example extracted screen')\n",
    "while True:\n",
    "    action = env.action_space.sample()\n",
    "    # 往后走一步\n",
    "    state, _, done, _ = env.step(action)\n",
    "    # 生成走后的场景\n",
    "    current_screen = env.render(mode='rgb_array')  # 返回现在的图像, 用于可视化\n",
    "    # 绘制画面\n",
    "    plt.pause(0.7)  # pause a bit so that plots are updated\n",
    "    IPython.display.clear_output(wait=True)\n",
    "    IPython.display.display(plt.gcf())\n",
    "    plt.title('Action: {}'.format(action))\n",
    "    plt.imshow(current_screen, interpolation='none')\n",
    "    t = t + 1\n",
    "    if done:\n",
    "        break\n",
    "    if t > 100:\n",
    "        break\n",
    "plt.show()\n",
    "env.close()\n",
    "print(t)"
   ]
  },
  {
   "cell_type": "code",
   "execution_count": 1,
   "outputs": [
    {
     "ename": "TypeError",
     "evalue": "list indices must be integers or slices, not str",
     "output_type": "error",
     "traceback": [
      "\u001B[1;31m---------------------------------------------------------------------------\u001B[0m",
      "\u001B[1;31mTypeError\u001B[0m                                 Traceback (most recent call last)",
      "\u001B[1;32m~\\AppData\\Local\\Temp/ipykernel_50944/2575980542.py\u001B[0m in \u001B[0;36m<module>\u001B[1;34m\u001B[0m\n\u001B[0;32m      1\u001B[0m \u001B[0mtext_input\u001B[0m \u001B[1;33m=\u001B[0m \u001B[1;33m[\u001B[0m\u001B[1;34m'1'\u001B[0m\u001B[1;33m,\u001B[0m\u001B[1;34m'233'\u001B[0m\u001B[1;33m]\u001B[0m\u001B[1;33m\u001B[0m\u001B[1;33m\u001B[0m\u001B[0m\n\u001B[0;32m      2\u001B[0m \u001B[0mLabel_list\u001B[0m \u001B[1;33m=\u001B[0m \u001B[1;33m[\u001B[0m\u001B[1;34m'11'\u001B[0m\u001B[1;33m,\u001B[0m\u001B[1;34m'1233'\u001B[0m\u001B[1;33m]\u001B[0m\u001B[1;33m\u001B[0m\u001B[1;33m\u001B[0m\u001B[0m\n\u001B[1;32m----> 3\u001B[1;33m \u001B[0mtext_i\u001B[0m \u001B[1;33m=\u001B[0m \u001B[0mtext_input\u001B[0m\u001B[1;33m[\u001B[0m\u001B[1;34m'1'\u001B[0m\u001B[1;33m]\u001B[0m\u001B[1;33m\u001B[0m\u001B[1;33m\u001B[0m\u001B[0m\n\u001B[0m\u001B[0;32m      4\u001B[0m \u001B[0mprob_max_i\u001B[0m \u001B[1;33m=\u001B[0m \u001B[0mLabel_list\u001B[0m\u001B[1;33m[\u001B[0m\u001B[0mtext_i\u001B[0m\u001B[1;33m]\u001B[0m\u001B[1;33m\u001B[0m\u001B[1;33m\u001B[0m\u001B[0m\n",
      "\u001B[1;31mTypeError\u001B[0m: list indices must be integers or slices, not str"
     ]
    }
   ],
   "source": [
    "text_input = ['1','233']\n",
    "Label_list = ['11','1233']\n",
    "text_i = text_input['1']\n",
    "prob_max_i = Label_list[text_i]"
   ],
   "metadata": {
    "collapsed": false,
    "pycharm": {
     "name": "#%%\n"
    }
   }
  },
  {
   "cell_type": "code",
   "execution_count": null,
   "outputs": [],
   "source": [],
   "metadata": {
    "collapsed": false,
    "pycharm": {
     "name": "#%%\n"
    }
   }
  }
 ],
 "metadata": {
  "kernelspec": {
   "display_name": "Python 3",
   "language": "python",
   "name": "python3"
  },
  "language_info": {
   "codemirror_mode": {
    "name": "ipython",
    "version": 2
   },
   "file_extension": ".py",
   "mimetype": "text/x-python",
   "name": "python",
   "nbconvert_exporter": "python",
   "pygments_lexer": "ipython2",
   "version": "2.7.6"
  }
 },
 "nbformat": 4,
 "nbformat_minor": 0
}